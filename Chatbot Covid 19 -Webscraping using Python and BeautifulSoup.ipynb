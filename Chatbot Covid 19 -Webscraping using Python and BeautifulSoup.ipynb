{
 "cells": [
  {
   "cell_type": "markdown",
   "metadata": {},
   "source": [
    "# Webscraping fetching data for Covid 19"
   ]
  },
  {
   "cell_type": "code",
   "execution_count": 2,
   "metadata": {
    "inputHidden": false,
    "outputHidden": false
   },
   "outputs": [
    {
     "data": {
      "text/plain": [
       "<Response [200]>"
      ]
     },
     "execution_count": 2,
     "metadata": {},
     "output_type": "execute_result"
    }
   ],
   "source": [
    "import IPython\n",
    "\n",
    "from IPython.display import HTML\n",
    "from IPython.display import display\n",
    "\n",
    "import requests\n",
    "\n",
    "page = requests.get(\"https://www.arcgis.com/apps/opsdashboard/index.html#/bda7594740fd40299423467b48e9ecf6\")\n",
    "page"
   ]
  },
  {
   "cell_type": "code",
   "execution_count": 3,
   "metadata": {
    "inputHidden": false,
    "outputHidden": false
   },
   "outputs": [
    {
     "data": {
      "text/plain": [
       "200"
      ]
     },
     "execution_count": 3,
     "metadata": {},
     "output_type": "execute_result"
    }
   ],
   "source": [
    "page.status_code"
   ]
  },
  {
   "cell_type": "markdown",
   "metadata": {},
   "source": [
    "### The html is saved within the 'content' attribute"
   ]
  },
  {
   "cell_type": "code",
   "execution_count": 4,
   "metadata": {
    "inputHidden": false,
    "outputHidden": false
   },
   "outputs": [
    {
     "data": {
      "text/plain": [
       "b'<!DOCTYPE html>\\n<html>\\n\\n<head>\\n  <meta charset=\"utf-8\">\\n  <meta http-equiv=\"X-UA-Compatible\" content=\"IE=edge\">\\n  <title>ArcGIS Dashboards</title>\\n  <meta name=\"description\" content>\\n  <meta name=\"viewport\" content=\"width=device-width, initial-scale=1\">\\n  <link rel=\"icon\" href=\"assets/images/favicon.ico?\" type=\"image/x-icon\">\\n  <link href=\"https://js.arcgis.com/3.32/dijit/themes/claro/claro.css\" rel=\"stylesheet\" type=\"text/css\">\\n  <link href=\"https://js.arcgis.com/3.32/esri/css/esri.css\" rel=\"stylesheet\" type=\"text/css\">\\n  <link rel=\"stylesheet\" href=\"assets/vendor-ff6a5e0c0264e398e1ffaeb015926635.css\">\\n  <link rel=\"stylesheet\" href=\"assets/app-light-7137f008b303d663c3645f07f162e89f.css\">\\n  <script src=\"assets/amd-config-7e9801fc9c916a27bb75c6f356e09e0d.js\"></script>\\n</head>\\n\\n<body class=\"claro\">\\n  <script src=\"https://js.arcgis.com/3.32/init.js\" data-amd=\"true\"></script>\\n  <script src=\"assets/amd-loading-d8029d0343fa400ebae9865c42984750.js\" data-amd-loading=\"true\"></script>\\n  <div id=\"initialLoadingContainer\" class=\"full-height flex-vertical flex-justify-center flex-align-items-center\">\\n    <div class=\"loader is-active\">\\n      <div class=\"loader-bars\"></div>\\n    </div>\\n  </div>\\n</body>\\n\\n</html>'"
      ]
     },
     "execution_count": 4,
     "metadata": {},
     "output_type": "execute_result"
    }
   ],
   "source": [
    "page.content"
   ]
  },
  {
   "cell_type": "markdown",
   "metadata": {},
   "source": [
    "## Beautiful Soup\n",
    "### Soupify (i.e., parse) the page object"
   ]
  },
  {
   "cell_type": "code",
   "execution_count": 5,
   "metadata": {
    "inputHidden": false,
    "outputHidden": false
   },
   "outputs": [],
   "source": [
    "from bs4 import BeautifulSoup\n",
    "soup = BeautifulSoup(page.content, 'html.parser')"
   ]
  },
  {
   "cell_type": "code",
   "execution_count": 6,
   "metadata": {
    "inputHidden": false,
    "outputHidden": false
   },
   "outputs": [
    {
     "data": {
      "text/plain": [
       "<!DOCTYPE html>\n",
       "\n",
       "<html>\n",
       "<head>\n",
       "<meta charset=\"utf-8\"/>\n",
       "<meta content=\"IE=edge\" http-equiv=\"X-UA-Compatible\"/>\n",
       "<title>ArcGIS Dashboards</title>\n",
       "<meta content=\"\" name=\"description\"/>\n",
       "<meta content=\"width=device-width, initial-scale=1\" name=\"viewport\"/>\n",
       "<link href=\"assets/images/favicon.ico?\" rel=\"icon\" type=\"image/x-icon\"/>\n",
       "<link href=\"https://js.arcgis.com/3.32/dijit/themes/claro/claro.css\" rel=\"stylesheet\" type=\"text/css\"/>\n",
       "<link href=\"https://js.arcgis.com/3.32/esri/css/esri.css\" rel=\"stylesheet\" type=\"text/css\"/>\n",
       "<link href=\"assets/vendor-ff6a5e0c0264e398e1ffaeb015926635.css\" rel=\"stylesheet\"/>\n",
       "<link href=\"assets/app-light-7137f008b303d663c3645f07f162e89f.css\" rel=\"stylesheet\"/>\n",
       "<script src=\"assets/amd-config-7e9801fc9c916a27bb75c6f356e09e0d.js\"></script>\n",
       "</head>\n",
       "<body class=\"claro\">\n",
       "<script data-amd=\"true\" src=\"https://js.arcgis.com/3.32/init.js\"></script>\n",
       "<script data-amd-loading=\"true\" src=\"assets/amd-loading-d8029d0343fa400ebae9865c42984750.js\"></script>\n",
       "<div class=\"full-height flex-vertical flex-justify-center flex-align-items-center\" id=\"initialLoadingContainer\">\n",
       "<div class=\"loader is-active\">\n",
       "<div class=\"loader-bars\"></div>\n",
       "</div>\n",
       "</div>\n",
       "</body>\n",
       "</html>"
      ]
     },
     "execution_count": 6,
     "metadata": {},
     "output_type": "execute_result"
    }
   ],
   "source": [
    "soup"
   ]
  },
  {
   "cell_type": "code",
   "execution_count": 7,
   "metadata": {
    "inputHidden": false,
    "outputHidden": false
   },
   "outputs": [
    {
     "name": "stdout",
     "output_type": "stream",
     "text": [
      "<!DOCTYPE html>\n",
      "<html>\n",
      " <head>\n",
      "  <meta charset=\"utf-8\"/>\n",
      "  <meta content=\"IE=edge\" http-equiv=\"X-UA-Compatible\"/>\n",
      "  <title>\n",
      "   ArcGIS Dashboards\n",
      "  </title>\n",
      "  <meta content=\"\" name=\"description\"/>\n",
      "  <meta content=\"width=device-width, initial-scale=1\" name=\"viewport\"/>\n",
      "  <link href=\"assets/images/favicon.ico?\" rel=\"icon\" type=\"image/x-icon\"/>\n",
      "  <link href=\"https://js.arcgis.com/3.32/dijit/themes/claro/claro.css\" rel=\"stylesheet\" type=\"text/css\"/>\n",
      "  <link href=\"https://js.arcgis.com/3.32/esri/css/esri.css\" rel=\"stylesheet\" type=\"text/css\"/>\n",
      "  <link href=\"assets/vendor-ff6a5e0c0264e398e1ffaeb015926635.css\" rel=\"stylesheet\"/>\n",
      "  <link href=\"assets/app-light-7137f008b303d663c3645f07f162e89f.css\" rel=\"stylesheet\"/>\n",
      "  <script src=\"assets/amd-config-7e9801fc9c916a27bb75c6f356e09e0d.js\">\n",
      "  </script>\n",
      " </head>\n",
      " <body class=\"claro\">\n",
      "  <script data-amd=\"true\" src=\"https://js.arcgis.com/3.32/init.js\">\n",
      "  </script>\n",
      "  <script data-amd-loading=\"true\" src=\"assets/amd-loading-d8029d0343fa400ebae9865c42984750.js\">\n",
      "  </script>\n",
      "  <div class=\"full-height flex-vertical flex-justify-center flex-align-items-center\" id=\"initialLoadingContainer\">\n",
      "   <div class=\"loader is-active\">\n",
      "    <div class=\"loader-bars\">\n",
      "    </div>\n",
      "   </div>\n",
      "  </div>\n",
      " </body>\n",
      "</html>\n"
     ]
    }
   ],
   "source": [
    "print(soup.prettify())"
   ]
  },
  {
   "cell_type": "markdown",
   "metadata": {},
   "source": [
    "### Here are some simple ways to navigate that data structure:"
   ]
  },
  {
   "cell_type": "code",
   "execution_count": 8,
   "metadata": {
    "inputHidden": false,
    "outputHidden": false
   },
   "outputs": [
    {
     "data": {
      "text/plain": [
       "<title>ArcGIS Dashboards</title>"
      ]
     },
     "execution_count": 8,
     "metadata": {},
     "output_type": "execute_result"
    }
   ],
   "source": [
    "soup.title"
   ]
  },
  {
   "cell_type": "code",
   "execution_count": 9,
   "metadata": {
    "inputHidden": false,
    "outputHidden": false
   },
   "outputs": [
    {
     "data": {
      "text/plain": [
       "'title'"
      ]
     },
     "execution_count": 9,
     "metadata": {},
     "output_type": "execute_result"
    }
   ],
   "source": [
    "soup.title.name"
   ]
  },
  {
   "cell_type": "code",
   "execution_count": 10,
   "metadata": {
    "inputHidden": false,
    "outputHidden": false
   },
   "outputs": [
    {
     "data": {
      "text/plain": [
       "'ArcGIS Dashboards'"
      ]
     },
     "execution_count": 10,
     "metadata": {},
     "output_type": "execute_result"
    }
   ],
   "source": [
    "soup.title.string"
   ]
  },
  {
   "cell_type": "code",
   "execution_count": 11,
   "metadata": {
    "inputHidden": false,
    "outputHidden": false
   },
   "outputs": [
    {
     "data": {
      "text/plain": [
       "'head'"
      ]
     },
     "execution_count": 11,
     "metadata": {},
     "output_type": "execute_result"
    }
   ],
   "source": [
    "soup.title.parent.name"
   ]
  },
  {
   "cell_type": "code",
   "execution_count": 12,
   "metadata": {
    "inputHidden": false,
    "outputHidden": false
   },
   "outputs": [],
   "source": [
    "soup.p"
   ]
  },
  {
   "cell_type": "markdown",
   "metadata": {},
   "source": [
    "---\n",
    "### Examine all elements at the top level of the page using the children property of soup.\n",
    "##### Note: the children command returns a list generator so we need to call the list function on it."
   ]
  },
  {
   "cell_type": "code",
   "execution_count": 13,
   "metadata": {
    "inputHidden": false,
    "outputHidden": false
   },
   "outputs": [
    {
     "data": {
      "text/plain": [
       "['html', '\\n', <html>\n",
       " <head>\n",
       " <meta charset=\"utf-8\"/>\n",
       " <meta content=\"IE=edge\" http-equiv=\"X-UA-Compatible\"/>\n",
       " <title>ArcGIS Dashboards</title>\n",
       " <meta content=\"\" name=\"description\"/>\n",
       " <meta content=\"width=device-width, initial-scale=1\" name=\"viewport\"/>\n",
       " <link href=\"assets/images/favicon.ico?\" rel=\"icon\" type=\"image/x-icon\"/>\n",
       " <link href=\"https://js.arcgis.com/3.32/dijit/themes/claro/claro.css\" rel=\"stylesheet\" type=\"text/css\"/>\n",
       " <link href=\"https://js.arcgis.com/3.32/esri/css/esri.css\" rel=\"stylesheet\" type=\"text/css\"/>\n",
       " <link href=\"assets/vendor-ff6a5e0c0264e398e1ffaeb015926635.css\" rel=\"stylesheet\"/>\n",
       " <link href=\"assets/app-light-7137f008b303d663c3645f07f162e89f.css\" rel=\"stylesheet\"/>\n",
       " <script src=\"assets/amd-config-7e9801fc9c916a27bb75c6f356e09e0d.js\"></script>\n",
       " </head>\n",
       " <body class=\"claro\">\n",
       " <script data-amd=\"true\" src=\"https://js.arcgis.com/3.32/init.js\"></script>\n",
       " <script data-amd-loading=\"true\" src=\"assets/amd-loading-d8029d0343fa400ebae9865c42984750.js\"></script>\n",
       " <div class=\"full-height flex-vertical flex-justify-center flex-align-items-center\" id=\"initialLoadingContainer\">\n",
       " <div class=\"loader is-active\">\n",
       " <div class=\"loader-bars\"></div>\n",
       " </div>\n",
       " </div>\n",
       " </body>\n",
       " </html>]"
      ]
     },
     "execution_count": 13,
     "metadata": {},
     "output_type": "execute_result"
    }
   ],
   "source": [
    "list(soup.children)"
   ]
  },
  {
   "cell_type": "markdown",
   "metadata": {},
   "source": [
    "#### The first line of the output tells us that there are two tags at the top level of the page\n",
    "* !DOCTYPE html \n",
    "* html \n",
    "* There is a newline (\\n) in the list as well\n",
    "\n",
    "---\n",
    "### Examine the type of element in the top-level-tags list"
   ]
  },
  {
   "cell_type": "code",
   "execution_count": 14,
   "metadata": {
    "inputHidden": false,
    "outputHidden": false
   },
   "outputs": [
    {
     "data": {
      "text/plain": [
       "[bs4.element.Doctype, bs4.element.NavigableString, bs4.element.Tag]"
      ]
     },
     "execution_count": 14,
     "metadata": {},
     "output_type": "execute_result"
    }
   ],
   "source": [
    "[type(item) for item in list(soup.children)]"
   ]
  },
  {
   "cell_type": "markdown",
   "metadata": {},
   "source": [
    "#### \"bs4.\" denotes that each element in the list is a BeautifulSoup object\n",
    "* Doctype - information about the type of document \n",
    "* NavigableString - represents text found in the html document\n",
    "* Tag - the important one ;) often contains other nested tags. \n",
    "---\n",
    "### Select the html tag and its children by taking the third item in the list\n",
    "##### Note: index elements begin at 0, thus the third element is 2"
   ]
  },
  {
   "cell_type": "code",
   "execution_count": 15,
   "metadata": {
    "inputHidden": false,
    "outputHidden": false
   },
   "outputs": [],
   "source": [
    "html = list(soup.children)[2]"
   ]
  },
  {
   "cell_type": "markdown",
   "metadata": {},
   "source": [
    "### Find the children nested within the html tag"
   ]
  },
  {
   "cell_type": "code",
   "execution_count": 16,
   "metadata": {
    "inputHidden": false,
    "outputHidden": false
   },
   "outputs": [
    {
     "data": {
      "text/plain": [
       "['\\n', <head>\n",
       " <meta charset=\"utf-8\"/>\n",
       " <meta content=\"IE=edge\" http-equiv=\"X-UA-Compatible\"/>\n",
       " <title>ArcGIS Dashboards</title>\n",
       " <meta content=\"\" name=\"description\"/>\n",
       " <meta content=\"width=device-width, initial-scale=1\" name=\"viewport\"/>\n",
       " <link href=\"assets/images/favicon.ico?\" rel=\"icon\" type=\"image/x-icon\"/>\n",
       " <link href=\"https://js.arcgis.com/3.32/dijit/themes/claro/claro.css\" rel=\"stylesheet\" type=\"text/css\"/>\n",
       " <link href=\"https://js.arcgis.com/3.32/esri/css/esri.css\" rel=\"stylesheet\" type=\"text/css\"/>\n",
       " <link href=\"assets/vendor-ff6a5e0c0264e398e1ffaeb015926635.css\" rel=\"stylesheet\"/>\n",
       " <link href=\"assets/app-light-7137f008b303d663c3645f07f162e89f.css\" rel=\"stylesheet\"/>\n",
       " <script src=\"assets/amd-config-7e9801fc9c916a27bb75c6f356e09e0d.js\"></script>\n",
       " </head>, '\\n', <body class=\"claro\">\n",
       " <script data-amd=\"true\" src=\"https://js.arcgis.com/3.32/init.js\"></script>\n",
       " <script data-amd-loading=\"true\" src=\"assets/amd-loading-d8029d0343fa400ebae9865c42984750.js\"></script>\n",
       " <div class=\"full-height flex-vertical flex-justify-center flex-align-items-center\" id=\"initialLoadingContainer\">\n",
       " <div class=\"loader is-active\">\n",
       " <div class=\"loader-bars\"></div>\n",
       " </div>\n",
       " </div>\n",
       " </body>, '\\n']"
      ]
     },
     "execution_count": 16,
     "metadata": {},
     "output_type": "execute_result"
    }
   ],
   "source": [
    "list(html.children)"
   ]
  },
  {
   "cell_type": "code",
   "execution_count": 17,
   "metadata": {
    "inputHidden": false,
    "outputHidden": false
   },
   "outputs": [
    {
     "data": {
      "text/plain": [
       "[bs4.element.NavigableString,\n",
       " bs4.element.Tag,\n",
       " bs4.element.NavigableString,\n",
       " bs4.element.Tag,\n",
       " bs4.element.NavigableString]"
      ]
     },
     "execution_count": 17,
     "metadata": {},
     "output_type": "execute_result"
    }
   ],
   "source": [
    "[type(item) for item in list(html.children)]"
   ]
  },
  {
   "cell_type": "markdown",
   "metadata": {},
   "source": [
    "### There are two tags here\n",
    "* head \n",
    "* body \n",
    "---\n",
    "### We can find the p tag by finding the children of the body tag"
   ]
  },
  {
   "cell_type": "code",
   "execution_count": 18,
   "metadata": {
    "inputHidden": false,
    "outputHidden": false
   },
   "outputs": [],
   "source": [
    "body = list(html.children)[3]"
   ]
  },
  {
   "cell_type": "code",
   "execution_count": 19,
   "metadata": {
    "inputHidden": false,
    "outputHidden": false
   },
   "outputs": [
    {
     "data": {
      "text/plain": [
       "['\\n',\n",
       " <script data-amd=\"true\" src=\"https://js.arcgis.com/3.32/init.js\"></script>,\n",
       " '\\n',\n",
       " <script data-amd-loading=\"true\" src=\"assets/amd-loading-d8029d0343fa400ebae9865c42984750.js\"></script>,\n",
       " '\\n',\n",
       " <div class=\"full-height flex-vertical flex-justify-center flex-align-items-center\" id=\"initialLoadingContainer\">\n",
       " <div class=\"loader is-active\">\n",
       " <div class=\"loader-bars\"></div>\n",
       " </div>\n",
       " </div>,\n",
       " '\\n']"
      ]
     },
     "execution_count": 19,
     "metadata": {},
     "output_type": "execute_result"
    }
   ],
   "source": [
    "list(body.children)"
   ]
  },
  {
   "cell_type": "code",
   "execution_count": 20,
   "metadata": {
    "inputHidden": false,
    "outputHidden": false
   },
   "outputs": [
    {
     "data": {
      "text/plain": [
       "[bs4.element.NavigableString,\n",
       " bs4.element.Tag,\n",
       " bs4.element.NavigableString,\n",
       " bs4.element.Tag,\n",
       " bs4.element.NavigableString,\n",
       " bs4.element.Tag,\n",
       " bs4.element.NavigableString]"
      ]
     },
     "execution_count": 20,
     "metadata": {},
     "output_type": "execute_result"
    }
   ],
   "source": [
    "[type(item) for item in list(body.children)]"
   ]
  },
  {
   "cell_type": "markdown",
   "metadata": {},
   "source": [
    "### Isolate the p tag"
   ]
  },
  {
   "cell_type": "code",
   "execution_count": 21,
   "metadata": {
    "inputHidden": false,
    "outputHidden": false
   },
   "outputs": [],
   "source": [
    "p = list(body.children)[1]"
   ]
  },
  {
   "cell_type": "markdown",
   "metadata": {},
   "source": [
    "### Once isolated, extract all of the text using get_text method"
   ]
  },
  {
   "cell_type": "code",
   "execution_count": 22,
   "metadata": {
    "inputHidden": false,
    "outputHidden": false
   },
   "outputs": [
    {
     "data": {
      "text/plain": [
       "''"
      ]
     },
     "execution_count": 22,
     "metadata": {},
     "output_type": "execute_result"
    }
   ],
   "source": [
    "p.get_text()"
   ]
  },
  {
   "cell_type": "markdown",
   "metadata": {},
   "source": [
    "## Finding all instances of a tag"
   ]
  },
  {
   "cell_type": "code",
   "execution_count": 23,
   "metadata": {
    "inputHidden": false,
    "outputHidden": false
   },
   "outputs": [
    {
     "data": {
      "text/plain": [
       "[]"
      ]
     },
     "execution_count": 23,
     "metadata": {},
     "output_type": "execute_result"
    }
   ],
   "source": [
    "soup = BeautifulSoup(page.content, 'html.parser')\n",
    "soup.find_all('p')"
   ]
  },
  {
   "cell_type": "markdown",
   "metadata": {},
   "source": [
    "##### Note: find_all returns a list, so we have to loop through it or use list indexing to extract text. \n",
    "---\n",
    "#### The find method will resturing a single BeautifulSoup object with the first instance of a tag"
   ]
  },
  {
   "cell_type": "code",
   "execution_count": 24,
   "metadata": {
    "inputHidden": false,
    "outputHidden": false
   },
   "outputs": [],
   "source": [
    "soup.find('p')"
   ]
  },
  {
   "cell_type": "markdown",
   "metadata": {},
   "source": [
    "## Searching for tags by class and id\n",
    "##### Note: These properties are used to uniformly apply certain styles of formatting for related parts of a webpage"
   ]
  },
  {
   "cell_type": "code",
   "execution_count": 25,
   "metadata": {
    "inputHidden": false,
    "outputHidden": false
   },
   "outputs": [
    {
     "name": "stdout",
     "output_type": "stream",
     "text": [
      "<html>\n",
      " <head>\n",
      "  <title>\n",
      "   A simple example page\n",
      "  </title>\n",
      " </head>\n",
      " <body>\n",
      "  <div>\n",
      "   <p class=\"inner-text first-item\" id=\"first\">\n",
      "    First paragraph.\n",
      "   </p>\n",
      "   <p class=\"inner-text\">\n",
      "    Second paragraph.\n",
      "   </p>\n",
      "  </div>\n",
      "  <p class=\"outer-text first-item\" id=\"second\">\n",
      "   <b>\n",
      "    First outer paragraph.\n",
      "   </b>\n",
      "  </p>\n",
      "  <p class=\"outer-text\">\n",
      "   <b>\n",
      "    Second outer paragraph.\n",
      "   </b>\n",
      "  </p>\n",
      " </body>\n",
      "</html>\n"
     ]
    }
   ],
   "source": [
    "page = requests.get(\"http://dataquestio.github.io/web-scraping-pages/ids_and_classes.html\")\n",
    "soup = BeautifulSoup(page.content, 'html.parser')\n",
    "print(soup.prettify())"
   ]
  },
  {
   "cell_type": "markdown",
   "metadata": {},
   "source": [
    "#### search for any p tag that has the class outer-text"
   ]
  },
  {
   "cell_type": "code",
   "execution_count": 26,
   "metadata": {
    "inputHidden": false,
    "outputHidden": false
   },
   "outputs": [
    {
     "data": {
      "text/plain": [
       "[<p class=\"outer-text first-item\" id=\"second\">\n",
       " <b>\n",
       "                 First outer paragraph.\n",
       "             </b>\n",
       " </p>, <p class=\"outer-text\">\n",
       " <b>\n",
       "                 Second outer paragraph.\n",
       "             </b>\n",
       " </p>]"
      ]
     },
     "execution_count": 26,
     "metadata": {},
     "output_type": "execute_result"
    }
   ],
   "source": [
    "soup.find_all('p', class_='outer-text')"
   ]
  },
  {
   "cell_type": "markdown",
   "metadata": {},
   "source": [
    "search for all elements with id first"
   ]
  },
  {
   "cell_type": "code",
   "execution_count": 27,
   "metadata": {
    "inputHidden": false,
    "outputHidden": false
   },
   "outputs": [
    {
     "data": {
      "text/plain": [
       "[<p class=\"inner-text first-item\" id=\"first\">\n",
       "                 First paragraph.\n",
       "             </p>]"
      ]
     },
     "execution_count": 27,
     "metadata": {},
     "output_type": "execute_result"
    }
   ],
   "source": [
    "soup.find_all(id=\"first\")"
   ]
  },
  {
   "cell_type": "code",
   "execution_count": 28,
   "metadata": {
    "inputHidden": false,
    "outputHidden": false
   },
   "outputs": [
    {
     "data": {
      "text/plain": [
       "[<p class=\"inner-text first-item\" id=\"first\">\n",
       "                 First paragraph.\n",
       "             </p>, <p class=\"inner-text\">\n",
       "                 Second paragraph.\n",
       "             </p>]"
      ]
     },
     "execution_count": 28,
     "metadata": {},
     "output_type": "execute_result"
    }
   ],
   "source": [
    "soup.select(\"div p\")"
   ]
  },
  {
   "cell_type": "code",
   "execution_count": 30,
   "metadata": {
    "inputHidden": false,
    "outputHidden": false
   },
   "outputs": [],
   "source": [
    "page = requests.get(\"https://www.arcgis.com/apps/opsdashboard/index.html#/bda7594740fd40299423467b48e9ecf6\")\n",
    "#soup = BeautifulSoup(page.content, 'html.parser')  \n",
    "#seven_day = soup.find(id='seven-day-forecast')\n",
    "#forecast_items = seven_day.find_all(class_='tombstone-container')\n",
    "#tonight = forecast_items[0]\n",
    "#print(tonight.prettify())"
   ]
  },
  {
   "cell_type": "code",
   "execution_count": null,
   "metadata": {
    "inputHidden": false,
    "outputHidden": false
   },
   "outputs": [],
   "source": []
  }
 ],
 "metadata": {
  "kernel_info": {
   "name": "python3"
  },
  "kernelspec": {
   "display_name": "Python 3",
   "language": "python",
   "name": "python3"
  },
  "language_info": {
   "codemirror_mode": {
    "name": "ipython",
    "version": 3
   },
   "file_extension": ".py",
   "mimetype": "text/x-python",
   "name": "python",
   "nbconvert_exporter": "python",
   "pygments_lexer": "ipython3",
   "version": "3.7.4"
  },
  "nteract": {
   "version": "0.11.7"
  }
 },
 "nbformat": 4,
 "nbformat_minor": 4
}
